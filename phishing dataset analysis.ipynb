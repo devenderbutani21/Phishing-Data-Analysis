{
  "nbformat": 4,
  "nbformat_minor": 0,
  "metadata": {
    "colab": {
      "name": "bagging.ipynb",
      "provenance": [],
      "collapsed_sections": []
    },
    "kernelspec": {
      "name": "python3",
      "display_name": "Python 3"
    },
    "language_info": {
      "name": "python"
    }
  },
  "cells": [
    {
      "cell_type": "code",
      "execution_count": null,
      "metadata": {
        "id": "uU195Vb7f6QS"
      },
      "outputs": [],
      "source": [
        "# To perform operations on dataset\n",
        "import pandas as pd\n",
        "import numpy as np\n",
        "\n",
        "# Machine learning model\n",
        "from sklearn.model_selection import train_test_split\n",
        "from sklearn.tree import DecisionTreeClassifier\n",
        "from sklearn import model_selection\n",
        "from sklearn.ensemble import BaggingClassifier\n",
        "from sklearn.model_selection import RepeatedStratifiedKFold"
      ]
    },
    {
      "cell_type": "markdown",
      "source": [
        "### To remove the duplicate enteriess in the training dataset."
      ],
      "metadata": {
        "id": "IbofnfAC0e1j"
      }
    },
    {
      "cell_type": "code",
      "source": [
        "with open('/content/Phising_Training_Dataset.csv','r') as in_file, open('ouput.csv','w') as out_file:\n",
        "    seen = set() # set for fast O(1) amortized lookup\n",
        "    for line in in_file:\n",
        "        if line in seen: \n",
        "          continue # skip duplicate\n",
        "        seen.add(line)\n",
        "        out_file.write(line)"
      ],
      "metadata": {
        "id": "GfBLLoQY0ZEy"
      },
      "execution_count": null,
      "outputs": []
    },
    {
      "cell_type": "markdown",
      "source": [
        "### Modeling begins"
      ],
      "metadata": {
        "id": "Ib7dzI4_0qX-"
      }
    },
    {
      "cell_type": "code",
      "source": [
        "df = pd.read_csv('/content/ouput.csv')\n",
        "df_test = pd.read_csv('/content/Phising_Testing_Dataset.csv')"
      ],
      "metadata": {
        "id": "DRhCAiEPgUHe"
      },
      "execution_count": null,
      "outputs": []
    },
    {
      "cell_type": "code",
      "source": [
        "X = df.iloc[:, :-1]\n",
        "\n",
        "y = df.iloc[:, -1]\n",
        "\n",
        "Xtrain, Xtest, ytrain, ytest = train_test_split(X, y, random_state=0)"
      ],
      "metadata": {
        "id": "xpVk0sJ0gkj7"
      },
      "execution_count": null,
      "outputs": []
    },
    {
      "cell_type": "code",
      "source": [
        "seed = 5\n",
        "kfold = model_selection.RepeatedStratifiedKFold(n_splits=10, n_repeats=3, random_state = seed)\n",
        "\n",
        "# initialize the base classifier\n",
        "base_cls = DecisionTreeClassifier(criterion = \"gini\", splitter = \"random\")\n",
        "num_trees = 1000\n",
        "  \n",
        "# bagging classifier\n",
        "model = BaggingClassifier(base_estimator = base_cls,\n",
        "                          n_estimators = num_trees,\n",
        "                          random_state = seed).fit(X,y)\n",
        "  \n",
        "results = model_selection.cross_val_score(model, X, y, cv = kfold)\n",
        "print(\"accuracy :\")\n",
        "print(results.mean())"
      ],
      "metadata": {
        "id": "DseQXC7Uhna6"
      },
      "execution_count": null,
      "outputs": []
    },
    {
      "cell_type": "markdown",
      "source": [
        "### Predicting the values for the testing dataset and storing them into results.xlsx"
      ],
      "metadata": {
        "id": "Vf3Z5ey506I8"
      }
    },
    {
      "cell_type": "code",
      "source": [
        "df_test = df_test.rename(columns={'iframe': 'Iframe'})\n",
        "X_test_data = df_test.iloc[:, 1:] "
      ],
      "metadata": {
        "id": "xJ-fGnYIi4Ic"
      },
      "execution_count": null,
      "outputs": []
    },
    {
      "cell_type": "code",
      "source": [
        "y_pred = model.predict(X_test_data)"
      ],
      "metadata": {
        "id": "mggecOWXjrvT"
      },
      "execution_count": null,
      "outputs": []
    },
    {
      "cell_type": "code",
      "source": [
        "final_df = pd.DataFrame(y_pred, index = None)"
      ],
      "metadata": {
        "id": "b8KuYpX_kseg"
      },
      "execution_count": null,
      "outputs": []
    },
    {
      "cell_type": "code",
      "source": [
        "final_df.to_excel(\"results.xlsx\", \"df1\")"
      ],
      "metadata": {
        "id": "z5l-tZaVkygo"
      },
      "execution_count": null,
      "outputs": []
    }
  ]
}